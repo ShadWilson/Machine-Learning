{
 "cells": [
  {
   "cell_type": "markdown",
   "id": "9778849a",
   "metadata": {},
   "source": [
    "CSC/MAT-338: Machine Learning\n",
    "Profs. McKinney and Yoon\n",
    "Fall 2025\n",
    "\n",
    "Assignment 00: Python Review\n",
    "\n",
    "This assignment will serve as a review of fundamentals of Python and a quick introduction to the use of Jupyter notebooks."
   ]
  },
  {
   "cell_type": "code",
   "execution_count": 33,
   "id": "fda2b5c7",
   "metadata": {},
   "outputs": [],
   "source": [
    "from math import sqrt # This is needed to use sqrt().  It's good practice to put library imports at the top."
   ]
  },
  {
   "cell_type": "markdown",
   "id": "f6435a7d",
   "metadata": {},
   "source": [
    "TASK 1: Variables and IO\n",
    "\n",
    "In this task, define:\n",
    "- A integer variable called foo, with your choice of value\n",
    "- A floating point variable called bar, with your choice of value\n",
    "- A string variable called myname, containing your name\n",
    "\n",
    "Using the print() function, print the names, values, and types of each of the variables.  You can use either f-strings or string concatenation for the printing.\n",
    "\n",
    "Sample output:\n",
    "\n",
    "The value of foo is 3 and its type is <class 'int'>\n",
    "\n",
    "The value of bar is 3.14 and its type is <class 'float'>\n",
    "\n",
    "The value of myname is Colin and its type is <class 'str'>"
   ]
  },
  {
   "cell_type": "code",
   "execution_count": 34,
   "id": "3c50eb62",
   "metadata": {},
   "outputs": [
    {
     "name": "stdout",
     "output_type": "stream",
     "text": [
      "The value of foo is 3 and its type is <class 'int'>\n",
      "The value of bar is 12.2 and its type is <class 'float'>\n",
      "The value of myname is Shad and its type is <class 'str'>\n"
     ]
    }
   ],
   "source": [
    "# Code goes here\n",
    "foo = 3\n",
    "bar = 12.2\n",
    "myname = \"Shad\"\n",
    "print(f\"The value of foo is {foo} and its type is {type(foo)}\")\n",
    "print(f\"The value of bar is {bar} and its type is {type(bar)}\")\n",
    "print(f\"The value of myname is {myname} and its type is {type(myname)}\")"
   ]
  },
  {
   "cell_type": "markdown",
   "id": "5a03c5ee",
   "metadata": {},
   "source": [
    "TASK 2: Control Structures\n",
    "\n",
    "Jupyter notebooks are a different way to structure a Python project.  Instead of the entire file running, notebooks allow you to run specific cells.  You can go back and re-run any cell in any order, but need to be careful to ensure variables have been defined before being used.  For example, if this cell had print(foo), but you had not already run the code cell above that defined foo, an error would occur.\n",
    "\n",
    "For this task:\n",
    "- Use a conditional to check whether the value of foo is smaller than the value of bar.  If foo is smaller than bar, print a message to this effect.  Otherwise, print a different message.\n",
    "- Use a loop to print the numbers 1 through 10, along with their squares.\n",
    "- Use another loop to print the numbers 1 through 10, along with their squares, except you should skip 7 and its square.  (Hint: use the continue instruction.  Look up what the difference is between continue and break.)"
   ]
  },
  {
   "cell_type": "code",
   "execution_count": 35,
   "id": "12ed19f2",
   "metadata": {},
   "outputs": [
    {
     "name": "stdout",
     "output_type": "stream",
     "text": [
      "foo is smaller than bar\n",
      "1\n",
      "2\n",
      "3\n",
      "4\n",
      "5\n",
      "6\n",
      "7\n",
      "8\n",
      "9\n",
      "10\n",
      "the value of 1 squared is 1\n",
      "the value of 2 squared is 4\n",
      "the value of 3 squared is 9\n",
      "the value of 4 squared is 16\n",
      "the value of 5 squared is 25\n",
      "the value of 6 squared is 36\n",
      "the value of 8 squared is 64\n",
      "the value of 9 squared is 81\n",
      "the value of 10 squared is 100\n"
     ]
    }
   ],
   "source": [
    "# Code goes here\n",
    "if foo < bar:\n",
    "    print(\"foo is smaller than bar\")\n",
    "else:\n",
    "    print(\"foo is not smaller than bar\")\n",
    "\n",
    "counter = 1\n",
    "while counter<=10:\n",
    "    print(counter)\n",
    "    counter +=1\n",
    "a=1\n",
    "while a <= 10:\n",
    "    if a==7:\n",
    "        a += 1\n",
    "        continue\n",
    "    print(f\"the value of {a} squared is {a*a}\")\n",
    "    a +=1"
   ]
  },
  {
   "cell_type": "markdown",
   "id": "943562eb",
   "metadata": {},
   "source": [
    "TASK 3: Functions\n",
    "\n",
    "Write a function that accepts an integer.  You may assume that the function will only ever get passed an integer 2 or larger, and so can ignore type checking.  The function should, using a loop, determine if the integer given is prime.  If so, it should return True.  Otherwise, it should return False.  (Hint: you can use the % operator to check the remainder upon division by various numbers.  For primes, you need only check integers from 2 to the floor of the square root of the number.).  Demonstrate that your function works correctly by passing it a few prime numbers and a few composite (non-prime) numbers.\n",
    "\n",
    "Sample output: \n",
    "\n",
    "Is the number 3 prime?: True"
   ]
  },
  {
   "cell_type": "code",
   "execution_count": 39,
   "id": "903c54f5",
   "metadata": {},
   "outputs": [
    {
     "name": "stdout",
     "output_type": "stream",
     "text": [
      "False\n",
      "False\n",
      "True\n"
     ]
    }
   ],
   "source": [
    "import math\n",
    "def isPrime(num: int) -> bool:# Notice how here I've specified that the input should be an int and the return value should be a bool\n",
    "    # Remove this line.  Right now, the function thinks all numbers are prime!\n",
    "    # code goes here\n",
    "    if num < 2:\n",
    "        return False\n",
    "    is_prime = True\n",
    "    for i in range(2, int(math.sqrt(num)) + 1):\n",
    "        if num % i == 0:\n",
    "            is_prime = False\n",
    "            break\n",
    "    return is_prime\n",
    "\n",
    "print(isPrime(21))\n",
    "print(isPrime(30))\n",
    "print(isPrime(7))"
   ]
  },
  {
   "cell_type": "markdown",
   "id": "9b981b0f",
   "metadata": {},
   "source": [
    "TASK 4: Object-oriented Programming"
   ]
  },
  {
   "cell_type": "markdown",
   "id": "4143d132",
   "metadata": {},
   "source": [
    "Define two objects, called Vertex and Triangle.  A vertex will be a pair of coordinates, for its x and y coordinates.  A triangle will be an object having three Vertex objects within it.  The Triangle class should also have a property called Area, and a method to compute and return the area.  To compute the area of a triangle given only its three vertices, you will need to write a Distance function that returns the distance between two vertices, then use Heron's formula: https://en.wikipedia.org/wiki/Heron%27s_formula"
   ]
  },
  {
   "cell_type": "code",
   "execution_count": 43,
   "id": "af918624",
   "metadata": {},
   "outputs": [],
   "source": [
    "class Vertex:\n",
    "    def __init__(self, xcoord, ycoord):\n",
    "        # code goes here\n",
    "        self.xcoord = xcoord\n",
    "        self.ycoord = ycoord\n",
    "\n",
    "\n",
    "def Distance(v1: Vertex, v2: Vertex):\n",
    "    return math.sqrt((v1.xcoord - v2.xcoord) ** 2 + (v1.ycoord - v2.ycoord) ** 2)\n",
    "\n",
    "\n",
    "class Triangle:\n",
    "    def __init__(self, v1: Vertex, v2: Vertex, v3: Vertex):\n",
    "        self.v1 = v1\n",
    "        self.v2 = v2\n",
    "        self.v3 = v3\n",
    "\n",
    "    def area(self):\n",
    "        a = Distance(self.v1, self.v2)\n",
    "        b = Distance(self.v2, self.v3)\n",
    "        c = Distance(self.v3, self.v1)\n",
    "\n",
    "        #semi-perimeter\n",
    "        s = (a + b + c) / 2\n",
    "\n",
    "        return math.sqrt(s * (s - a) * (s - b) * (s - c))\n",
    "    "
   ]
  },
  {
   "cell_type": "markdown",
   "id": "e9e80f7f",
   "metadata": {},
   "source": [
    "Now that you've defined functions and classes, you can test them by creating specific instances of them below.  Create three vertices, a triangle using them, and then print the area of the resulting triangle."
   ]
  },
  {
   "cell_type": "code",
   "execution_count": 44,
   "id": "a741e0a9",
   "metadata": {},
   "outputs": [
    {
     "name": "stdout",
     "output_type": "stream",
     "text": [
      "6.0\n"
     ]
    }
   ],
   "source": [
    "# Code goes here\n",
    "v1 = Vertex(0, 0)\n",
    "v2 = Vertex(4, 0)\n",
    "v3 = Vertex(0, 3)\n",
    "tri = Triangle(v1, v2, v3)\n",
    "print(tri.area())"
   ]
  }
 ],
 "metadata": {
  "kernelspec": {
   "display_name": "MLBase",
   "language": "python",
   "name": "python3"
  },
  "language_info": {
   "codemirror_mode": {
    "name": "ipython",
    "version": 3
   },
   "file_extension": ".py",
   "mimetype": "text/x-python",
   "name": "python",
   "nbconvert_exporter": "python",
   "pygments_lexer": "ipython3",
   "version": "3.13.5"
  }
 },
 "nbformat": 4,
 "nbformat_minor": 5
}
